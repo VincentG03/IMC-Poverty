{
 "cells": [
  {
   "cell_type": "markdown",
   "metadata": {},
   "source": [
    "## Market Making v.1\n",
    "Fixed up closing positions. Instead of going to the market to close positions, we will instead send quotes and wait until someone executes on us to close out.\n",
    "\n",
    "![Image Title](images/MM1.png)"
   ]
  },
  {
   "cell_type": "markdown",
   "metadata": {},
   "source": [
    "## Market Making v.2\n",
    "There are times that our profit drops too far down. In theory, market making, if both bid and asks are executed, should only make money. Issues could arise from the fact that a bot lifts our ask (leaving us in a short position) and then the asset price increases. So we must also increase our bid and ask, then we must quote higher bid prices (which end up being higher than our intial ask price), when a bot hits our bid, we must buy at a higher price than we sold at intially --> a loss.\n",
    "- Added in functionality to only trade when the spread of the product was above a hard coded spread ($6 units)\n",
    "\n",
    "![Image Title](images/MM2.png)"
   ]
  },
  {
   "cell_type": "markdown",
   "metadata": {},
   "source": [
    "## Market Making v.3\n",
    "An issue is that while we have an option position, our code does not continue to market make. Instead it continues to quote orders to try to close out of the position to lock in profit. This results in us missing opportunties to continue to trade in the market. \n",
    "- Added in logic to continue to market make with the remaining position (position limit - current position) while we try to close out.\n",
    "\n",
    "![Image Title](images/MM3.png)"
   ]
  },
  {
   "cell_type": "markdown",
   "metadata": {},
   "source": [
    "## Market Making v.4\n",
    "Before we hard coded the spread. This wouldn't be scalable in the future as we would need to determine and hard code the spread values. Thus we decided to code a way to find the average spread of the last 20 time periods. Then we would trade if and only if our current_spread > avg_spread*scale_factor. Where avg_spread is the average spread in the last 20 (changeable) time periods and scale factor is a multiplier. Currently we have best successes with scale factors of 0.8 - 1. Lower scale factors mean more trades are eligbile and and thus more trades, but potentially bad trades. Higher scale factors mean less trades, but more potential profit for each trade.\n",
    "- Added in moving average for product spreads --> used to determine the required spread to market make\n",
    "\n",
    "![Image Title](images/MM4.png)\n",
    "![Image Title](images/MM4.1.png)"
   ]
  },
  {
   "cell_type": "markdown",
   "metadata": {},
   "source": [
    "## Market Making v.5 \n",
    "Before this, whenever we quote prices to market make, we would always beat the market by $1 to ensure we had the best prices and all participants would trade with us first. However this default, while netting us more trades, reduced our profit due to the smaller spread. So we decided to change our quote depending on if there was high or low amounts of volume for the best bid and ask.\n",
    "- If there is low best bid/best ask volume, then instead of beating the price by $1, we can just match it with greater volume. Locking in more profit if it manages to execute (which it had a higher chance to due to low volume)\n",
    "![Image Title](images/MM5.png)"
   ]
  },
  {
   "cell_type": "markdown",
   "metadata": {},
   "source": [
    "## Market Making v.6\n",
    "For the last few versions, if the spread of the market was outside of our required spread (required spread was an average of the last 40 spreads) we would just not send an order to the market as the reward was not justifiable enough for us to risk. However we then realised our of 4000 chances (2000 iterations, 2 products), we were not sending orders ~850 times. We were missing out on too many chances to make more profit. \n",
    "- If the market's spread is not large enough for us to comfortably market make prices (current_spread was not >= required_spread), then we will still send market making orders except the orders will conform to our required_spread at the detriment of not being the best bid/ask in the market. \n",
    "    - Best_bid = 10, Best_ask = 14 --> current_spread = 4\n",
    "    - required_spread = 5 (historically)\n",
    "    - Thus we cannot market make the best orders as the spread is too small. However we will still send orders at either 10-15 or 9-14 depending on the volume of the best bid/best ask.\n",
    "        - To determine if we should MM at 10-15 or 9-14 placed the \"better\" order at the bid/ask with the lower volume as it would more likely be filled.\n",
    "\n",
    "It is interesting to note that, we almost have perfect profits for AMETHYST, from observing the graph we can see that our profits are either increasing or remaining the same, never decreasing. \n",
    "\n",
    "![Image Title](images/MM6.png)\n",
    "![Image Title](images/MM6.1.png)"
   ]
  },
  {
   "cell_type": "markdown",
   "metadata": {},
   "source": []
  }
 ],
 "metadata": {
  "kernelspec": {
   "display_name": "Python 3",
   "language": "python",
   "name": "python3"
  },
  "language_info": {
   "codemirror_mode": {
    "name": "ipython",
    "version": 3
   },
   "file_extension": ".py",
   "mimetype": "text/x-python",
   "name": "python",
   "nbconvert_exporter": "python",
   "pygments_lexer": "ipython3",
   "version": "3.12.0"
  }
 },
 "nbformat": 4,
 "nbformat_minor": 2
}
