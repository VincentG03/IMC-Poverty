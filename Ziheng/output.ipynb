{
 "cells": [
  {
   "cell_type": "code",
   "execution_count": 1,
   "metadata": {},
   "outputs": [],
   "source": [
    "import pandas as pd\n",
    "import seaborn as sns\n",
    "import matplotlib.pyplot as plt\n",
    "import numpy as np\n",
    "from scripts.find_trades import *"
   ]
  },
  {
   "cell_type": "code",
   "execution_count": 2,
   "metadata": {},
   "outputs": [],
   "source": [
    "\n",
    "df = pd.read_csv('verify2.csv', delimiter=';')\n",
    "df.fillna(0, inplace=True)"
   ]
  },
  {
   "cell_type": "code",
   "execution_count": 3,
   "metadata": {},
   "outputs": [
    {
     "data": {
      "text/html": [
       "<div>\n",
       "<style scoped>\n",
       "    .dataframe tbody tr th:only-of-type {\n",
       "        vertical-align: middle;\n",
       "    }\n",
       "\n",
       "    .dataframe tbody tr th {\n",
       "        vertical-align: top;\n",
       "    }\n",
       "\n",
       "    .dataframe thead th {\n",
       "        text-align: right;\n",
       "    }\n",
       "</style>\n",
       "<table border=\"1\" class=\"dataframe\">\n",
       "  <thead>\n",
       "    <tr style=\"text-align: right;\">\n",
       "      <th></th>\n",
       "      <th>day</th>\n",
       "      <th>timestamp</th>\n",
       "      <th>product</th>\n",
       "      <th>bid_price_1</th>\n",
       "      <th>bid_volume_1</th>\n",
       "      <th>bid_price_2</th>\n",
       "      <th>bid_volume_2</th>\n",
       "      <th>bid_price_3</th>\n",
       "      <th>bid_volume_3</th>\n",
       "      <th>ask_price_1</th>\n",
       "      <th>ask_volume_1</th>\n",
       "      <th>ask_price_2</th>\n",
       "      <th>ask_volume_2</th>\n",
       "      <th>ask_price_3</th>\n",
       "      <th>ask_volume_3</th>\n",
       "      <th>mid_price</th>\n",
       "      <th>profit_and_loss</th>\n",
       "    </tr>\n",
       "  </thead>\n",
       "  <tbody>\n",
       "    <tr>\n",
       "      <th>0</th>\n",
       "      <td>-2</td>\n",
       "      <td>0</td>\n",
       "      <td>AMETHYSTS</td>\n",
       "      <td>10002</td>\n",
       "      <td>1</td>\n",
       "      <td>9996.0</td>\n",
       "      <td>2.0</td>\n",
       "      <td>9995.0</td>\n",
       "      <td>29.0</td>\n",
       "      <td>10004</td>\n",
       "      <td>2</td>\n",
       "      <td>10005.0</td>\n",
       "      <td>29.0</td>\n",
       "      <td>0.0</td>\n",
       "      <td>0.0</td>\n",
       "      <td>10003.0</td>\n",
       "      <td>0.000000</td>\n",
       "    </tr>\n",
       "    <tr>\n",
       "      <th>1</th>\n",
       "      <td>-2</td>\n",
       "      <td>0</td>\n",
       "      <td>STARFRUIT</td>\n",
       "      <td>5002</td>\n",
       "      <td>1</td>\n",
       "      <td>4997.0</td>\n",
       "      <td>31.0</td>\n",
       "      <td>0.0</td>\n",
       "      <td>0.0</td>\n",
       "      <td>5003</td>\n",
       "      <td>31</td>\n",
       "      <td>0.0</td>\n",
       "      <td>0.0</td>\n",
       "      <td>0.0</td>\n",
       "      <td>0.0</td>\n",
       "      <td>5002.5</td>\n",
       "      <td>0.000000</td>\n",
       "    </tr>\n",
       "    <tr>\n",
       "      <th>2</th>\n",
       "      <td>-2</td>\n",
       "      <td>100</td>\n",
       "      <td>AMETHYSTS</td>\n",
       "      <td>9996</td>\n",
       "      <td>2</td>\n",
       "      <td>9995.0</td>\n",
       "      <td>22.0</td>\n",
       "      <td>0.0</td>\n",
       "      <td>0.0</td>\n",
       "      <td>10004</td>\n",
       "      <td>2</td>\n",
       "      <td>10005.0</td>\n",
       "      <td>22.0</td>\n",
       "      <td>0.0</td>\n",
       "      <td>0.0</td>\n",
       "      <td>10000.0</td>\n",
       "      <td>0.000000</td>\n",
       "    </tr>\n",
       "    <tr>\n",
       "      <th>3</th>\n",
       "      <td>-2</td>\n",
       "      <td>100</td>\n",
       "      <td>STARFRUIT</td>\n",
       "      <td>4997</td>\n",
       "      <td>24</td>\n",
       "      <td>0.0</td>\n",
       "      <td>0.0</td>\n",
       "      <td>0.0</td>\n",
       "      <td>0.0</td>\n",
       "      <td>5003</td>\n",
       "      <td>2</td>\n",
       "      <td>5004.0</td>\n",
       "      <td>22.0</td>\n",
       "      <td>0.0</td>\n",
       "      <td>0.0</td>\n",
       "      <td>5000.0</td>\n",
       "      <td>0.000000</td>\n",
       "    </tr>\n",
       "    <tr>\n",
       "      <th>4</th>\n",
       "      <td>-2</td>\n",
       "      <td>200</td>\n",
       "      <td>STARFRUIT</td>\n",
       "      <td>4997</td>\n",
       "      <td>2</td>\n",
       "      <td>4996.0</td>\n",
       "      <td>20.0</td>\n",
       "      <td>0.0</td>\n",
       "      <td>0.0</td>\n",
       "      <td>5003</td>\n",
       "      <td>20</td>\n",
       "      <td>0.0</td>\n",
       "      <td>0.0</td>\n",
       "      <td>0.0</td>\n",
       "      <td>0.0</td>\n",
       "      <td>5000.0</td>\n",
       "      <td>0.000000</td>\n",
       "    </tr>\n",
       "    <tr>\n",
       "      <th>...</th>\n",
       "      <td>...</td>\n",
       "      <td>...</td>\n",
       "      <td>...</td>\n",
       "      <td>...</td>\n",
       "      <td>...</td>\n",
       "      <td>...</td>\n",
       "      <td>...</td>\n",
       "      <td>...</td>\n",
       "      <td>...</td>\n",
       "      <td>...</td>\n",
       "      <td>...</td>\n",
       "      <td>...</td>\n",
       "      <td>...</td>\n",
       "      <td>...</td>\n",
       "      <td>...</td>\n",
       "      <td>...</td>\n",
       "      <td>...</td>\n",
       "    </tr>\n",
       "    <tr>\n",
       "      <th>3995</th>\n",
       "      <td>-2</td>\n",
       "      <td>199700</td>\n",
       "      <td>AMETHYSTS</td>\n",
       "      <td>9998</td>\n",
       "      <td>8</td>\n",
       "      <td>9996.0</td>\n",
       "      <td>2.0</td>\n",
       "      <td>9995.0</td>\n",
       "      <td>25.0</td>\n",
       "      <td>10004</td>\n",
       "      <td>2</td>\n",
       "      <td>10005.0</td>\n",
       "      <td>25.0</td>\n",
       "      <td>0.0</td>\n",
       "      <td>0.0</td>\n",
       "      <td>10001.0</td>\n",
       "      <td>-172302.000000</td>\n",
       "    </tr>\n",
       "    <tr>\n",
       "      <th>3996</th>\n",
       "      <td>-2</td>\n",
       "      <td>199800</td>\n",
       "      <td>STARFRUIT</td>\n",
       "      <td>4949</td>\n",
       "      <td>21</td>\n",
       "      <td>0.0</td>\n",
       "      <td>0.0</td>\n",
       "      <td>0.0</td>\n",
       "      <td>0.0</td>\n",
       "      <td>4956</td>\n",
       "      <td>21</td>\n",
       "      <td>0.0</td>\n",
       "      <td>0.0</td>\n",
       "      <td>0.0</td>\n",
       "      <td>0.0</td>\n",
       "      <td>4952.5</td>\n",
       "      <td>-132747.515625</td>\n",
       "    </tr>\n",
       "    <tr>\n",
       "      <th>3997</th>\n",
       "      <td>-2</td>\n",
       "      <td>199800</td>\n",
       "      <td>AMETHYSTS</td>\n",
       "      <td>9995</td>\n",
       "      <td>21</td>\n",
       "      <td>0.0</td>\n",
       "      <td>0.0</td>\n",
       "      <td>0.0</td>\n",
       "      <td>0.0</td>\n",
       "      <td>10002</td>\n",
       "      <td>8</td>\n",
       "      <td>10005.0</td>\n",
       "      <td>21.0</td>\n",
       "      <td>0.0</td>\n",
       "      <td>0.0</td>\n",
       "      <td>9998.5</td>\n",
       "      <td>-172425.000000</td>\n",
       "    </tr>\n",
       "    <tr>\n",
       "      <th>3998</th>\n",
       "      <td>-2</td>\n",
       "      <td>199900</td>\n",
       "      <td>STARFRUIT</td>\n",
       "      <td>4950</td>\n",
       "      <td>32</td>\n",
       "      <td>0.0</td>\n",
       "      <td>0.0</td>\n",
       "      <td>0.0</td>\n",
       "      <td>0.0</td>\n",
       "      <td>4954</td>\n",
       "      <td>7</td>\n",
       "      <td>4956.0</td>\n",
       "      <td>32.0</td>\n",
       "      <td>0.0</td>\n",
       "      <td>0.0</td>\n",
       "      <td>4952.0</td>\n",
       "      <td>-132831.046875</td>\n",
       "    </tr>\n",
       "    <tr>\n",
       "      <th>3999</th>\n",
       "      <td>-2</td>\n",
       "      <td>199900</td>\n",
       "      <td>AMETHYSTS</td>\n",
       "      <td>9996</td>\n",
       "      <td>2</td>\n",
       "      <td>9995.0</td>\n",
       "      <td>30.0</td>\n",
       "      <td>0.0</td>\n",
       "      <td>0.0</td>\n",
       "      <td>10004</td>\n",
       "      <td>2</td>\n",
       "      <td>10005.0</td>\n",
       "      <td>30.0</td>\n",
       "      <td>0.0</td>\n",
       "      <td>0.0</td>\n",
       "      <td>10000.0</td>\n",
       "      <td>-172530.000000</td>\n",
       "    </tr>\n",
       "  </tbody>\n",
       "</table>\n",
       "<p>4000 rows × 17 columns</p>\n",
       "</div>"
      ],
      "text/plain": [
       "      day  timestamp    product  bid_price_1  bid_volume_1  bid_price_2  \\\n",
       "0      -2          0  AMETHYSTS        10002             1       9996.0   \n",
       "1      -2          0  STARFRUIT         5002             1       4997.0   \n",
       "2      -2        100  AMETHYSTS         9996             2       9995.0   \n",
       "3      -2        100  STARFRUIT         4997            24          0.0   \n",
       "4      -2        200  STARFRUIT         4997             2       4996.0   \n",
       "...   ...        ...        ...          ...           ...          ...   \n",
       "3995   -2     199700  AMETHYSTS         9998             8       9996.0   \n",
       "3996   -2     199800  STARFRUIT         4949            21          0.0   \n",
       "3997   -2     199800  AMETHYSTS         9995            21          0.0   \n",
       "3998   -2     199900  STARFRUIT         4950            32          0.0   \n",
       "3999   -2     199900  AMETHYSTS         9996             2       9995.0   \n",
       "\n",
       "      bid_volume_2  bid_price_3  bid_volume_3  ask_price_1  ask_volume_1  \\\n",
       "0              2.0       9995.0          29.0        10004             2   \n",
       "1             31.0          0.0           0.0         5003            31   \n",
       "2             22.0          0.0           0.0        10004             2   \n",
       "3              0.0          0.0           0.0         5003             2   \n",
       "4             20.0          0.0           0.0         5003            20   \n",
       "...            ...          ...           ...          ...           ...   \n",
       "3995           2.0       9995.0          25.0        10004             2   \n",
       "3996           0.0          0.0           0.0         4956            21   \n",
       "3997           0.0          0.0           0.0        10002             8   \n",
       "3998           0.0          0.0           0.0         4954             7   \n",
       "3999          30.0          0.0           0.0        10004             2   \n",
       "\n",
       "      ask_price_2  ask_volume_2  ask_price_3  ask_volume_3  mid_price  \\\n",
       "0         10005.0          29.0          0.0           0.0    10003.0   \n",
       "1             0.0           0.0          0.0           0.0     5002.5   \n",
       "2         10005.0          22.0          0.0           0.0    10000.0   \n",
       "3          5004.0          22.0          0.0           0.0     5000.0   \n",
       "4             0.0           0.0          0.0           0.0     5000.0   \n",
       "...           ...           ...          ...           ...        ...   \n",
       "3995      10005.0          25.0          0.0           0.0    10001.0   \n",
       "3996          0.0           0.0          0.0           0.0     4952.5   \n",
       "3997      10005.0          21.0          0.0           0.0     9998.5   \n",
       "3998       4956.0          32.0          0.0           0.0     4952.0   \n",
       "3999      10005.0          30.0          0.0           0.0    10000.0   \n",
       "\n",
       "      profit_and_loss  \n",
       "0            0.000000  \n",
       "1            0.000000  \n",
       "2            0.000000  \n",
       "3            0.000000  \n",
       "4            0.000000  \n",
       "...               ...  \n",
       "3995   -172302.000000  \n",
       "3996   -132747.515625  \n",
       "3997   -172425.000000  \n",
       "3998   -132831.046875  \n",
       "3999   -172530.000000  \n",
       "\n",
       "[4000 rows x 17 columns]"
      ]
     },
     "execution_count": 3,
     "metadata": {},
     "output_type": "execute_result"
    }
   ],
   "source": [
    "df"
   ]
  },
  {
   "cell_type": "code",
   "execution_count": 4,
   "metadata": {},
   "outputs": [
    {
     "data": {
      "text/plain": [
       "['day',\n",
       " 'timestamp',\n",
       " 'product',\n",
       " 'bid_price_1',\n",
       " 'bid_volume_1',\n",
       " 'bid_price_2',\n",
       " 'bid_volume_2',\n",
       " 'bid_price_3',\n",
       " 'bid_volume_3',\n",
       " 'ask_price_1',\n",
       " 'ask_volume_1',\n",
       " 'ask_price_2',\n",
       " 'ask_volume_2',\n",
       " 'ask_price_3',\n",
       " 'ask_volume_3',\n",
       " 'mid_price',\n",
       " 'profit_and_loss']"
      ]
     },
     "execution_count": 4,
     "metadata": {},
     "output_type": "execute_result"
    }
   ],
   "source": [
    "df.columns.to_list()"
   ]
  },
  {
   "cell_type": "code",
   "execution_count": 5,
   "metadata": {},
   "outputs": [
    {
     "data": {
      "text/plain": [
       "Text(0, 0.5, 'Profits')"
      ]
     },
     "execution_count": 5,
     "metadata": {},
     "output_type": "execute_result"
    },
    {
     "data": {
      "image/png": "[encoded data removed]",
      "text/plain": [
       "<Figure size 640x480 with 1 Axes>"
      ]
     },
     "metadata": {},
     "output_type": "display_data"
    }
   ],
   "source": [
    "sns.scatterplot(data=df, x='timestamp', y='profit_and_loss', hue='product', s = 1)\n",
    "plt.title('Time vs Profits')\n",
    "plt.xlabel('Time')\n",
    "plt.ylabel('Profits')\n"
   ]
  },
  {
   "cell_type": "code",
   "execution_count": 6,
   "metadata": {},
   "outputs": [
    {
     "data": {
      "text/plain": [
       "Text(0, 0.5, 'Mid Price')"
      ]
     },
     "execution_count": 6,
     "metadata": {},
     "output_type": "execute_result"
    },
    {
     "data": {
      "image/png": "[encoded data removed]",
      "text/plain": [
       "<Figure size 640x480 with 1 Axes>"
      ]
     },
     "metadata": {},
     "output_type": "display_data"
    }
   ],
   "source": [
    "sns.scatterplot(data=df, x='timestamp', y='mid_price', hue='product', s = 1)\n",
    "plt.title('Time vs Mid Price')\n",
    "plt.xlabel('Time')\n",
    "plt.ylabel('Mid Price')"
   ]
  },
  {
   "cell_type": "code",
   "execution_count": null,
   "metadata": {},
   "outputs": [],
   "source": [
    "sns.scatterplot(data=df[df['product'] == 'AMETHYSTS'], x='timestamp', y='mid_price', hue='product', s = 2)\n",
    "plt.title('AMETHYSTS')\n",
    "plt.xlabel('Time')\n",
    "plt.ylabel('Mid Price')"
   ]
  },
  {
   "cell_type": "code",
   "execution_count": null,
   "metadata": {},
   "outputs": [],
   "source": [
    "sns.scatterplot(data=df[df['product'] == 'STARFRUIT'], x='timestamp', y='mid_price', hue='product', s = 2, palette=['#fa8825'])\n",
    "plt.title('STARFRUIT')\n",
    "plt.xlabel('Time')\n",
    "plt.ylabel('Mid Price')"
   ]
  },
  {
   "cell_type": "code",
   "execution_count": null,
   "metadata": {},
   "outputs": [],
   "source": [
    "def find_average(row):\n",
    "    return sum([row['bid_price_1'] * row['bid_volume_1'], row['bid_price_2'] * row['bid_volume_2'],\n",
    "row['bid_price_3'] * row['bid_volume_3'], row['ask_price_3'] * row['ask_volume_3'], row['ask_price_2'] * row['ask_volume_2'],\n",
    " row['ask_price_1'] * row['ask_volume_1'] ]) / sum([row['bid_volume_1'], row['bid_volume_2'], row['bid_volume_3'],\n",
    "                                                  row['ask_volume_1'], row['ask_volume_2'], row['ask_volume_3']])\n",
    "\n",
    "\n",
    "df['avg_price'] = df.apply(find_average, axis=1)"
   ]
  },
  {
   "cell_type": "code",
   "execution_count": null,
   "metadata": {},
   "outputs": [],
   "source": [
    "print(sum([df.loc[3995, 'bid_volume_1'], df.loc[3995, 'bid_volume_2'], df.loc[3995, 'bid_volume_3'], df.loc[3995, 'ask_volume_1'], df.loc[3995, 'ask_volume_2'], df.loc[3995, 'ask_volume_3']]))"
   ]
  },
  {
   "cell_type": "code",
   "execution_count": null,
   "metadata": {},
   "outputs": [],
   "source": [
    "df[df['product'] == 'STARFRUIT'].to_csv('starfruit_my_trades.csv', index = False)"
   ]
  },
  {
   "cell_type": "code",
   "execution_count": null,
   "metadata": {},
   "outputs": [],
   "source": [
    "df.replace(0, np.nan, inplace=True)"
   ]
  },
  {
   "cell_type": "code",
   "execution_count": null,
   "metadata": {},
   "outputs": [],
   "source": [
    "lowest_ask = df[[\"ask_price_1\", \"ask_price_2\", \"ask_price_3\"]].min(axis=1)\n",
    "\n",
    "highest_bid = df[[\"bid_price_1\", \"bid_price_2\", \"bid_price_3\"]].min(axis=1)\n",
    "\n",
    "spread = lowest_ask - highest_bid\n",
    "\n",
    "df['spread'] = spread"
   ]
  },
  {
   "cell_type": "code",
   "execution_count": null,
   "metadata": {},
   "outputs": [],
   "source": [
    "sns.scatterplot(data=df, x='timestamp', y='spread', hue='product', s = 2)\n",
    "plt.title('Spread')\n",
    "plt.xlabel('Time')\n",
    "plt.ylabel('Price')"
   ]
  },
  {
   "cell_type": "markdown",
   "metadata": {},
   "source": [
    "## Finding EMA"
   ]
  },
  {
   "cell_type": "code",
   "execution_count": null,
   "metadata": {},
   "outputs": [],
   "source": [
    "\n",
    "\n",
    "def calculate_ema(col_name: str, time = 3):\n",
    "    for product in df['product'].unique():\n",
    "        df[col_name + f\"_{product}\"] = df[df['product'] == str(product)]['mid_price'].ewm(span = time, adjust = False).mean()\n",
    "    # return df[df['product'] == product]\n"
   ]
  },
  {
   "cell_type": "code",
   "execution_count": null,
   "metadata": {},
   "outputs": [],
   "source": [
    "# df_star = calculate_ema(product= \"STARFRUIT\", col_name=\"ema3\")\n",
    "calculate_ema(col_name=\"ema3\", time=3)\n",
    "calculate_ema(col_name=\"ema7\", time=7)\n",
    "calculate_ema(col_name=\"ema20\", time=20)\n",
    "calculate_ema(col_name=\"ema100\", time=100)"
   ]
  },
  {
   "cell_type": "code",
   "execution_count": null,
   "metadata": {},
   "outputs": [],
   "source": [
    "sns.lineplot(data=df[df['product'] == 'AMETHYSTS'].iloc[:2000], x='timestamp', y='ema3_AMETHYSTS', label='ema3')\n",
    "sns.lineplot(data=df[df['product'] == 'AMETHYSTS'].iloc[:2000], x='timestamp', y='ema100_AMETHYSTS', label='ema100')\n",
    "sns.scatterplot(data=df[df['product'] == 'AMETHYSTS'].iloc[:2000], x='timestamp', y='mid_price', hue='product', s = 2, palette=['#000000'])\n",
    "plt.title('AMETHYSTS')\n",
    "plt.xlabel('Time')\n",
    "plt.legend()\n",
    "plt.ylabel('PRICE')"
   ]
  },
  {
   "cell_type": "code",
   "execution_count": null,
   "metadata": {},
   "outputs": [],
   "source": [
    "sns.lineplot(data=df[df['product'] == 'STARFRUIT'].iloc[:2000], x='timestamp', y='ema20_STARFRUIT', label='ema20', linewidth=1)\n",
    "sns.lineplot(data=df[df['product'] == 'STARFRUIT'].iloc[:2000], x='timestamp', y='ema100_STARFRUIT', label='ema100', linewidth=1)\n",
    "sns.scatterplot(data=df[df['product'] == 'STARFRUIT'].iloc[:2000], x='timestamp', y='mid_price', hue='product', s = 1, palette=['#000000'])\n",
    "plt.title('STARFRUIT')\n",
    "plt.xlabel('Time')\n",
    "plt.legend()\n",
    "plt.ylabel('PRICE')"
   ]
  },
  {
   "cell_type": "code",
   "execution_count": null,
   "metadata": {},
   "outputs": [],
   "source": [
    "trade_df = convert_to_pandas(\"scripts/testMM.log\")"
   ]
  },
  {
   "cell_type": "code",
   "execution_count": null,
   "metadata": {},
   "outputs": [],
   "source": [
    "trade_df[\"timestamp\"] = trade_df[\"timestamp\"] / 100\n",
    "trade_df.set_index('timestamp', inplace=True)"
   ]
  },
  {
   "cell_type": "code",
   "execution_count": null,
   "metadata": {},
   "outputs": [],
   "source": [
    "\n",
    "sns.barplot(data=trade_df[trade_df['product'] == 'STARFRUIT'].loc[1300: 1380], x='timestamp', y='position', label = \"position\")\n",
    "ax2 = plt.twinx()\n",
    "# sns.barplot(data=trade_df[trade_df['product'] == 'AMETHYSTS'].iloc[100:], x='timestamp', y='price', color=\"r\", ax=ax2, label = \"price\")\n",
    "\n",
    "plt.legend(loc='upper left')"
   ]
  },
  {
   "cell_type": "code",
   "execution_count": null,
   "metadata": {},
   "outputs": [],
   "source": [
    "len(trade_df) # the amount of trades that have gone thru"
   ]
  },
  {
   "cell_type": "code",
   "execution_count": null,
   "metadata": {},
   "outputs": [],
   "source": [
    "sns.scatterplot(data=df[df['product'] == 'STARFRUIT'].iloc[1330: 1350], x='timestamp', y='profit_and_loss', hue='product', s = 5)"
   ]
  },
  {
   "cell_type": "code",
   "execution_count": null,
   "metadata": {},
   "outputs": [],
   "source": [
    "df[df['product'] == 'STARFRUIT'][\"mid_price\"].iloc[1337]"
   ]
  },
  {
   "cell_type": "code",
   "execution_count": null,
   "metadata": {},
   "outputs": [],
   "source": [
    "trade_df[df['product'] == 'STARFRUIT'][\"price\"].loc[1330 : 1400]"
   ]
  },
  {
   "cell_type": "code",
   "execution_count": null,
   "metadata": {},
   "outputs": [],
   "source": [
    "\n",
    "sns.barplot(data=trade_df[trade_df['product'] == 'AMETHYSTS'].loc[830: 1050], x='timestamp', y='position', label = \"position\")\n",
    "ax2 = plt.twinx()\n",
    "# sns.barplot(data=trade_df[trade_df['product'] == 'AMETHYSTS'].iloc[100:], x='timestamp', y='price', color=\"r\", ax=ax2, label = \"price\")\n",
    "\n",
    "plt.legend(loc='upper left')"
   ]
  },
  {
   "cell_type": "code",
   "execution_count": null,
   "metadata": {},
   "outputs": [],
   "source": [
    "sns.scatterplot(data=df[df['product'] == 'A'].iloc[750: 850], x='timestamp', y='profit_and_loss', hue='product', s = 5)"
   ]
  },
  {
   "cell_type": "code",
   "execution_count": null,
   "metadata": {},
   "outputs": [],
   "source": []
  }
 ],
 "metadata": {
  "kernelspec": {
   "display_name": "Python 3 (ipykernel)",
   "language": "python",
   "name": "python3"
  },
  "language_info": {
   "codemirror_mode": {
    "name": "ipython",
    "version": 3
   },
   "file_extension": ".py",
   "mimetype": "text/x-python",
   "name": "python",
   "nbconvert_exporter": "python",
   "pygments_lexer": "ipython3",
   "version": "3.12.2"
  }
 },
 "nbformat": 4,
 "nbformat_minor": 4
}
