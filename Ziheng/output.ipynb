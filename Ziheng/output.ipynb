{
 "cells": [
  {
   "cell_type": "code",
   "execution_count": 10,
   "metadata": {},
   "outputs": [],
   "source": [
    "import pandas as pd\n",
    "import seaborn as sns\n",
    "import matplotlib.pyplot as plt\n",
    "import numpy as np\n",
    "from scripts.find_trades import *\n",
    "import statistics"
   ]
  },
  {
   "cell_type": "code",
   "execution_count": 12,
   "metadata": {},
   "outputs": [],
   "source": [
    "\n",
    "# df = pd.read_csv('../(Data) Last Year/training/prices_round_1_day_0.csv', delimiter=';')\n",
    "# df = pd.read_csv('../(Data) Last Year/training/prices_round_3_day_0.csv', delimiter=';')\n",
    "# df = pd.read_csv('5860.csv', delimiter=';')\n",
    "# df = pd.read_csv('archive/profit_4600.csv', delimiter=';')\n",
    "df = pd.read_csv('fk.csv', delimiter=';')\n",
    "df.fillna(0, inplace=True)"
   ]
  },
  {
   "cell_type": "code",
   "execution_count": 13,
   "metadata": {},
   "outputs": [
    {
     "data": {
      "text/html": [
       "<div>\n",
       "<style scoped>\n",
       "    .dataframe tbody tr th:only-of-type {\n",
       "        vertical-align: middle;\n",
       "    }\n",
       "\n",
       "    .dataframe tbody tr th {\n",
       "        vertical-align: top;\n",
       "    }\n",
       "\n",
       "    .dataframe thead th {\n",
       "        text-align: right;\n",
       "    }\n",
       "</style>\n",
       "<table border=\"1\" class=\"dataframe\">\n",
       "  <thead>\n",
       "    <tr style=\"text-align: right;\">\n",
       "      <th></th>\n",
       "      <th>day</th>\n",
       "      <th>timestamp</th>\n",
       "      <th>product</th>\n",
       "      <th>bid_price_1</th>\n",
       "      <th>bid_volume_1</th>\n",
       "      <th>bid_price_2</th>\n",
       "      <th>bid_volume_2</th>\n",
       "      <th>bid_price_3</th>\n",
       "      <th>bid_volume_3</th>\n",
       "      <th>ask_price_1</th>\n",
       "      <th>ask_volume_1</th>\n",
       "      <th>ask_price_2</th>\n",
       "      <th>ask_volume_2</th>\n",
       "      <th>ask_price_3</th>\n",
       "      <th>ask_volume_3</th>\n",
       "      <th>mid_price</th>\n",
       "      <th>profit_and_loss</th>\n",
       "    </tr>\n",
       "  </thead>\n",
       "  <tbody>\n",
       "    <tr>\n",
       "      <th>0</th>\n",
       "      <td>2</td>\n",
       "      <td>0</td>\n",
       "      <td>ROSES</td>\n",
       "      <td>14421</td>\n",
       "      <td>30</td>\n",
       "      <td>14420.0</td>\n",
       "      <td>42.0</td>\n",
       "      <td>0.0</td>\n",
       "      <td>0.0</td>\n",
       "      <td>14422</td>\n",
       "      <td>72</td>\n",
       "      <td>0.0</td>\n",
       "      <td>0.0</td>\n",
       "      <td>0.0</td>\n",
       "      <td>0.0</td>\n",
       "      <td>14421.5</td>\n",
       "      <td>0.000</td>\n",
       "    </tr>\n",
       "    <tr>\n",
       "      <th>1</th>\n",
       "      <td>2</td>\n",
       "      <td>0</td>\n",
       "      <td>STRAWBERRIES</td>\n",
       "      <td>4036</td>\n",
       "      <td>181</td>\n",
       "      <td>0.0</td>\n",
       "      <td>0.0</td>\n",
       "      <td>0.0</td>\n",
       "      <td>0.0</td>\n",
       "      <td>4037</td>\n",
       "      <td>181</td>\n",
       "      <td>0.0</td>\n",
       "      <td>0.0</td>\n",
       "      <td>0.0</td>\n",
       "      <td>0.0</td>\n",
       "      <td>4036.5</td>\n",
       "      <td>0.000</td>\n",
       "    </tr>\n",
       "    <tr>\n",
       "      <th>2</th>\n",
       "      <td>2</td>\n",
       "      <td>0</td>\n",
       "      <td>AMETHYSTS</td>\n",
       "      <td>9996</td>\n",
       "      <td>2</td>\n",
       "      <td>9995.0</td>\n",
       "      <td>25.0</td>\n",
       "      <td>0.0</td>\n",
       "      <td>0.0</td>\n",
       "      <td>10004</td>\n",
       "      <td>2</td>\n",
       "      <td>10005.0</td>\n",
       "      <td>25.0</td>\n",
       "      <td>0.0</td>\n",
       "      <td>0.0</td>\n",
       "      <td>10000.0</td>\n",
       "      <td>0.000</td>\n",
       "    </tr>\n",
       "    <tr>\n",
       "      <th>3</th>\n",
       "      <td>2</td>\n",
       "      <td>0</td>\n",
       "      <td>ORCHIDS</td>\n",
       "      <td>1053</td>\n",
       "      <td>7</td>\n",
       "      <td>1052.0</td>\n",
       "      <td>2.0</td>\n",
       "      <td>1046.0</td>\n",
       "      <td>46.0</td>\n",
       "      <td>1059</td>\n",
       "      <td>7</td>\n",
       "      <td>1060.0</td>\n",
       "      <td>2.0</td>\n",
       "      <td>1067.0</td>\n",
       "      <td>46.0</td>\n",
       "      <td>1056.0</td>\n",
       "      <td>0.000</td>\n",
       "    </tr>\n",
       "    <tr>\n",
       "      <th>4</th>\n",
       "      <td>2</td>\n",
       "      <td>0</td>\n",
       "      <td>STARFRUIT</td>\n",
       "      <td>5023</td>\n",
       "      <td>1</td>\n",
       "      <td>5022.0</td>\n",
       "      <td>27.0</td>\n",
       "      <td>0.0</td>\n",
       "      <td>0.0</td>\n",
       "      <td>5029</td>\n",
       "      <td>27</td>\n",
       "      <td>0.0</td>\n",
       "      <td>0.0</td>\n",
       "      <td>0.0</td>\n",
       "      <td>0.0</td>\n",
       "      <td>5026.0</td>\n",
       "      <td>0.000</td>\n",
       "    </tr>\n",
       "    <tr>\n",
       "      <th>...</th>\n",
       "      <td>...</td>\n",
       "      <td>...</td>\n",
       "      <td>...</td>\n",
       "      <td>...</td>\n",
       "      <td>...</td>\n",
       "      <td>...</td>\n",
       "      <td>...</td>\n",
       "      <td>...</td>\n",
       "      <td>...</td>\n",
       "      <td>...</td>\n",
       "      <td>...</td>\n",
       "      <td>...</td>\n",
       "      <td>...</td>\n",
       "      <td>...</td>\n",
       "      <td>...</td>\n",
       "      <td>...</td>\n",
       "      <td>...</td>\n",
       "    </tr>\n",
       "    <tr>\n",
       "      <th>6995</th>\n",
       "      <td>2</td>\n",
       "      <td>99900</td>\n",
       "      <td>AMETHYSTS</td>\n",
       "      <td>9998</td>\n",
       "      <td>3</td>\n",
       "      <td>9996.0</td>\n",
       "      <td>1.0</td>\n",
       "      <td>9995.0</td>\n",
       "      <td>20.0</td>\n",
       "      <td>10004</td>\n",
       "      <td>1</td>\n",
       "      <td>10005.0</td>\n",
       "      <td>20.0</td>\n",
       "      <td>0.0</td>\n",
       "      <td>0.0</td>\n",
       "      <td>10001.0</td>\n",
       "      <td>1104.000</td>\n",
       "    </tr>\n",
       "    <tr>\n",
       "      <th>6996</th>\n",
       "      <td>2</td>\n",
       "      <td>99900</td>\n",
       "      <td>STRAWBERRIES</td>\n",
       "      <td>4042</td>\n",
       "      <td>274</td>\n",
       "      <td>0.0</td>\n",
       "      <td>0.0</td>\n",
       "      <td>0.0</td>\n",
       "      <td>0.0</td>\n",
       "      <td>4044</td>\n",
       "      <td>274</td>\n",
       "      <td>0.0</td>\n",
       "      <td>0.0</td>\n",
       "      <td>0.0</td>\n",
       "      <td>0.0</td>\n",
       "      <td>4043.0</td>\n",
       "      <td>-5922.375</td>\n",
       "    </tr>\n",
       "    <tr>\n",
       "      <th>6997</th>\n",
       "      <td>2</td>\n",
       "      <td>99900</td>\n",
       "      <td>STARFRUIT</td>\n",
       "      <td>5011</td>\n",
       "      <td>7</td>\n",
       "      <td>5010.0</td>\n",
       "      <td>21.0</td>\n",
       "      <td>0.0</td>\n",
       "      <td>0.0</td>\n",
       "      <td>5017</td>\n",
       "      <td>21</td>\n",
       "      <td>0.0</td>\n",
       "      <td>0.0</td>\n",
       "      <td>0.0</td>\n",
       "      <td>0.0</td>\n",
       "      <td>5014.0</td>\n",
       "      <td>624.000</td>\n",
       "    </tr>\n",
       "    <tr>\n",
       "      <th>6998</th>\n",
       "      <td>2</td>\n",
       "      <td>99900</td>\n",
       "      <td>ROSES</td>\n",
       "      <td>14405</td>\n",
       "      <td>64</td>\n",
       "      <td>0.0</td>\n",
       "      <td>0.0</td>\n",
       "      <td>0.0</td>\n",
       "      <td>0.0</td>\n",
       "      <td>14407</td>\n",
       "      <td>64</td>\n",
       "      <td>0.0</td>\n",
       "      <td>0.0</td>\n",
       "      <td>0.0</td>\n",
       "      <td>0.0</td>\n",
       "      <td>14406.0</td>\n",
       "      <td>-10514.000</td>\n",
       "    </tr>\n",
       "    <tr>\n",
       "      <th>6999</th>\n",
       "      <td>2</td>\n",
       "      <td>99900</td>\n",
       "      <td>CHOCOLATE</td>\n",
       "      <td>7898</td>\n",
       "      <td>135</td>\n",
       "      <td>0.0</td>\n",
       "      <td>0.0</td>\n",
       "      <td>0.0</td>\n",
       "      <td>0.0</td>\n",
       "      <td>7900</td>\n",
       "      <td>135</td>\n",
       "      <td>0.0</td>\n",
       "      <td>0.0</td>\n",
       "      <td>0.0</td>\n",
       "      <td>0.0</td>\n",
       "      <td>7899.0</td>\n",
       "      <td>-26448.375</td>\n",
       "    </tr>\n",
       "  </tbody>\n",
       "</table>\n",
       "<p>7000 rows × 17 columns</p>\n",
       "</div>"
      ],
      "text/plain": [
       "      day  timestamp       product  bid_price_1  bid_volume_1  bid_price_2  \\\n",
       "0       2          0         ROSES        14421            30      14420.0   \n",
       "1       2          0  STRAWBERRIES         4036           181          0.0   \n",
       "2       2          0     AMETHYSTS         9996             2       9995.0   \n",
       "3       2          0       ORCHIDS         1053             7       1052.0   \n",
       "4       2          0     STARFRUIT         5023             1       5022.0   \n",
       "...   ...        ...           ...          ...           ...          ...   \n",
       "6995    2      99900     AMETHYSTS         9998             3       9996.0   \n",
       "6996    2      99900  STRAWBERRIES         4042           274          0.0   \n",
       "6997    2      99900     STARFRUIT         5011             7       5010.0   \n",
       "6998    2      99900         ROSES        14405            64          0.0   \n",
       "6999    2      99900     CHOCOLATE         7898           135          0.0   \n",
       "\n",
       "      bid_volume_2  bid_price_3  bid_volume_3  ask_price_1  ask_volume_1  \\\n",
       "0             42.0          0.0           0.0        14422            72   \n",
       "1              0.0          0.0           0.0         4037           181   \n",
       "2             25.0          0.0           0.0        10004             2   \n",
       "3              2.0       1046.0          46.0         1059             7   \n",
       "4             27.0          0.0           0.0         5029            27   \n",
       "...            ...          ...           ...          ...           ...   \n",
       "6995           1.0       9995.0          20.0        10004             1   \n",
       "6996           0.0          0.0           0.0         4044           274   \n",
       "6997          21.0          0.0           0.0         5017            21   \n",
       "6998           0.0          0.0           0.0        14407            64   \n",
       "6999           0.0          0.0           0.0         7900           135   \n",
       "\n",
       "      ask_price_2  ask_volume_2  ask_price_3  ask_volume_3  mid_price  \\\n",
       "0             0.0           0.0          0.0           0.0    14421.5   \n",
       "1             0.0           0.0          0.0           0.0     4036.5   \n",
       "2         10005.0          25.0          0.0           0.0    10000.0   \n",
       "3          1060.0           2.0       1067.0          46.0     1056.0   \n",
       "4             0.0           0.0          0.0           0.0     5026.0   \n",
       "...           ...           ...          ...           ...        ...   \n",
       "6995      10005.0          20.0          0.0           0.0    10001.0   \n",
       "6996          0.0           0.0          0.0           0.0     4043.0   \n",
       "6997          0.0           0.0          0.0           0.0     5014.0   \n",
       "6998          0.0           0.0          0.0           0.0    14406.0   \n",
       "6999          0.0           0.0          0.0           0.0     7899.0   \n",
       "\n",
       "      profit_and_loss  \n",
       "0               0.000  \n",
       "1               0.000  \n",
       "2               0.000  \n",
       "3               0.000  \n",
       "4               0.000  \n",
       "...               ...  \n",
       "6995         1104.000  \n",
       "6996        -5922.375  \n",
       "6997          624.000  \n",
       "6998       -10514.000  \n",
       "6999       -26448.375  \n",
       "\n",
       "[7000 rows x 17 columns]"
      ]
     },
     "execution_count": 13,
     "metadata": {},
     "output_type": "execute_result"
    }
   ],
   "source": [
    "df"
   ]
  },
  {
   "cell_type": "code",
   "execution_count": 14,
   "metadata": {},
   "outputs": [
    {
     "data": {
      "text/plain": [
       "['day',\n",
       " 'timestamp',\n",
       " 'product',\n",
       " 'bid_price_1',\n",
       " 'bid_volume_1',\n",
       " 'bid_price_2',\n",
       " 'bid_volume_2',\n",
       " 'bid_price_3',\n",
       " 'bid_volume_3',\n",
       " 'ask_price_1',\n",
       " 'ask_volume_1',\n",
       " 'ask_price_2',\n",
       " 'ask_volume_2',\n",
       " 'ask_price_3',\n",
       " 'ask_volume_3',\n",
       " 'mid_price',\n",
       " 'profit_and_loss']"
      ]
     },
     "execution_count": 14,
     "metadata": {},
     "output_type": "execute_result"
    }
   ],
   "source": [
    "df.columns.to_list()"
   ]
  },
  {
   "cell_type": "code",
   "execution_count": 15,
   "metadata": {},
   "outputs": [
    {
     "data": {
      "text/plain": [
       "Text(0, 0.5, 'Profits')"
      ]
     },
     "execution_count": 15,
     "metadata": {},
     "output_type": "execute_result"
    },
    {
     "data": {
      "image/png": "[encoded data removed]",
      "text/plain": [
       "<Figure size 640x480 with 1 Axes>"
      ]
     },
     "metadata": {},
     "output_type": "display_data"
    }
   ],
   "source": [
    "sns.scatterplot(data=df, x='timestamp', y='profit_and_loss', hue='product', s = 4)\n",
    "plt.title('Time vs Profits')\n",
    "plt.xlabel('Time')\n",
    "plt.ylabel('Profits')\n"
   ]
  },
  {
   "cell_type": "code",
   "execution_count": null,
   "metadata": {},
   "outputs": [],
   "source": [
    "sns.scatterplot(data=df[df['product'] == 'ROSES'], x='timestamp', y='profit_and_loss', hue='product', s = 1)\n",
    "plt.title('Time vs Profits')\n",
    "plt.xlabel('Time')\n",
    "plt.ylabel('Profits')\n"
   ]
  },
  {
   "cell_type": "code",
   "execution_count": null,
   "metadata": {},
   "outputs": [],
   "source": [
    "sns.scatterplot(data=df[df['product'] == 'GIFT_BASKET'], x='timestamp', y='mid_price', hue='product', s = 6)\n",
    "plt.title('AMETHYSTS')\n",
    "plt.xlabel('Time')\n",
    "plt.ylabel('Mid Price')"
   ]
  },
  {
   "cell_type": "code",
   "execution_count": null,
   "metadata": {},
   "outputs": [],
   "source": [
    "sns.scatterplot(data=df[df['product'] == 'STARFRUIT'], x='timestamp', y='mid_price', hue='product', s = 20)\n",
    "plt.title('STARFRUIT')\n",
    "plt.xlabel('Time')\n",
    "plt.ylabel('Mid Price')"
   ]
  },
  {
   "cell_type": "code",
   "execution_count": null,
   "metadata": {},
   "outputs": [],
   "source": [
    "sns.scatterplot(data=df[df['product'] == 'ORCHIDS'], x='timestamp', y='mid_price', hue='product', s = 20)\n",
    "plt.title('ORCHIDS')\n",
    "plt.xlabel('Time')\n",
    "plt.ylabel('Mid Price')"
   ]
  },
  {
   "cell_type": "code",
   "execution_count": null,
   "metadata": {},
   "outputs": [],
   "source": [
    "sns.scatterplot(data=df[df['product'] == 'AMETHYSTS'].iloc[10:100], x='timestamp', y='mid_price', hue='product', s = 10, palette=['#fa8825'])\n",
    "for i in range(10, 100, 1):\n",
    "    x_new = []\n",
    "    minus = -1400\n",
    "    for _ in range(15):\n",
    "        x_new.append(time[i] + minus)\n",
    "        minus += 100\n",
    "    # x_1 = time[i]-100\n",
    "    # x_2 = time[i]-200\n",
    "    # x_3 = time[i]-300\n",
    "    # x_new = [x_3, x_2, x_1, time[i]]\n",
    "    # c, m = lin_reg(np.array(x_new), np.array(gradient_lst[i]))\n",
    "    m, c = np.polyfit(x_new, gradient_lst[i], 1)\n",
    "    y = m * np.array(x_new) + c\n",
    "    # print(gradient_lst[i])\n",
    "    plt.plot(x_new, y)\n",
    "plt.title('STARFRUIT')\n",
    "plt.xlabel('Time')\n",
    "plt.ylabel('Mid Price')\n",
    "plt.show()\n"
   ]
  },
  {
   "cell_type": "code",
   "execution_count": null,
   "metadata": {},
   "outputs": [],
   "source": [
    "len(time)"
   ]
  },
  {
   "cell_type": "code",
   "execution_count": null,
   "metadata": {},
   "outputs": [],
   "source": [
    "df_star = df[df[\"product\"] == \"BERRIES\"]\n",
    "df_star = df_star.reset_index()"
   ]
  },
  {
   "cell_type": "code",
   "execution_count": null,
   "metadata": {},
   "outputs": [],
   "source": [
    "df_star"
   ]
  },
  {
   "cell_type": "code",
   "execution_count": null,
   "metadata": {},
   "outputs": [],
   "source": [
    "def find_average(row):\n",
    "    try:\n",
    "        return sum([row['bid_price_1'] * row['bid_volume_1'], row['bid_price_2'] * row['bid_volume_2'],\n",
    "    row['bid_price_3'] * row['bid_volume_3'], row['ask_price_3'] * row['ask_volume_3'], row['ask_price_2'] * row['ask_volume_2'],\n",
    "    row['ask_price_1'] * row['ask_volume_1'] ]) / sum([row['bid_volume_1'], row['bid_volume_2'], row['bid_volume_3'],\n",
    "                                                    row['ask_volume_1'], row['ask_volume_2'], row['ask_volume_3']])\n",
    "    except:\n",
    "        return 0\n",
    "\n",
    "df['avg_price'] = df.apply(find_average, axis=1)"
   ]
  },
  {
   "cell_type": "code",
   "execution_count": null,
   "metadata": {},
   "outputs": [],
   "source": [
    "sns.scatterplot(data=df[df['product'] == 'ROSES'], x='timestamp', y='mid_price', hue='product', s = 6)\n",
    "sns.lineplot(data=df[df['product'] == 'ROSES'], x='timestamp', y='avg_price', hue='product', palette=['r'])\n",
    "plt.title('AMETHYSTS')\n",
    "plt.xlabel('Time')\n",
    "plt.ylabel('Mid Price')"
   ]
  },
  {
   "cell_type": "code",
   "execution_count": null,
   "metadata": {},
   "outputs": [],
   "source": [
    "def lin_reg(x, y):\n",
    "        # number of observations/points\n",
    "        n = np.size(x)\n",
    "        \n",
    "        # mean of x and y vector\n",
    "        m_x = np.mean(x)\n",
    "        m_y = np.mean(y)\n",
    "        \n",
    "        # calculating cross-deviation and deviation about x\n",
    "        SS_xy = np.sum(y*x) - n*m_y*m_x\n",
    "        SS_xx = np.sum(x*x) - n*m_x*m_x\n",
    "        \n",
    "        # calculating regression coefficients\n",
    "        b_1 = SS_xy / SS_xx\n",
    "        b_0 = m_y - b_1*m_x\n",
    "        \n",
    "        return (float(b_0), float(b_1))"
   ]
  },
  {
   "cell_type": "code",
   "execution_count": null,
   "metadata": {},
   "outputs": [],
   "source": [
    "def check_validity():\n",
    "    # success_lst = []\n",
    "    # for test in range(2, 20):\n",
    "    past_vals = 15\n",
    "        \n",
    "    df_star = df[df[\"product\"] == \"STARFRUIT\"]\n",
    "    df_star = df_star.reset_index()\n",
    "    print(df_star)\n",
    "    success = 0\n",
    "    lst = np.array([])\n",
    "    x = np.array([i for i in range(past_vals)])\n",
    "    time = []\n",
    "    gradient_lst = []\n",
    "    for index, row in df_star.iterrows():\n",
    "        if index == 1999:\n",
    "            break\n",
    "        curr_avg = row[\"avg_price\"]\n",
    "        curr_mid = row[\"mid_price\"]\n",
    "        next_mid = df_star.iloc[index+1][\"mid_price\"]\n",
    "\n",
    "        if len(lst) < past_vals:\n",
    "            lst = np.append(lst, curr_avg)\n",
    "            continue\n",
    "        else:\n",
    "            lst = lst[1:]\n",
    "            lst = np.append(lst, curr_avg)\n",
    "            \n",
    "        \n",
    "        gradient, c = np.polyfit(x, lst, 1)\n",
    "        time.append(row[\"timestamp\"])\n",
    "        gradient_lst.append(lst.tolist())\n",
    "\n",
    "        if len(lst) >= past_vals:\n",
    "            diff_lst = []\n",
    "            for i in range(past_vals):\n",
    "                c_avg = df_star.iloc[index-i][\"mid_price\"]\n",
    "                c_lin_reg = gradient * (past_vals - i) + c\n",
    "                diff = c_lin_reg - c_avg\n",
    "                diff_lst.append(diff)\n",
    "\n",
    "\n",
    "            sd = statistics.stdev(diff_lst, 0)\n",
    "        else:\n",
    "            sd = 1\n",
    "        # df[\"lin_reg_avg_price\"] = df\n",
    "        # print(c, gradient)\n",
    "        # predicting a down trend\n",
    "        # if curr_avg - curr_mid < 0:\n",
    "        pred = (past_vals+1) * gradient + c\n",
    "        pred = float(round(pred * 2) / 2)\n",
    "        # give a buffer\n",
    "        # print(f\"pred: {pred}, next_mid: {float(next_mid)}\")\n",
    "        print(f\"sd: {sd}\")\n",
    "        if next_mid < (pred + 0.9 * sd) and next_mid > (pred - 0.9 * sd):\n",
    "            print(f\"pred: {pred}, next_mid: {next_mid}\")\n",
    "            success += 1\n",
    "\n",
    "        # if pred == next_mid:\n",
    "        #     success += 1\n",
    "\n",
    "            # if gradient < 0:\n",
    "            #     if next_mid < curr_mid:\n",
    "            #         success += 1\n",
    "            \n",
    "            # # if curr_avg - curr_mid > 0:\n",
    "            # if gradient > 0:\n",
    "            #     if next_mid > curr_mid:\n",
    "            #         success += 1\n",
    "        # success_lst.append(success)\n",
    "        # print(test)\n",
    "        # return success\n",
    "        \n",
    "    \n",
    "    # return gradient_lst, time\n",
    "    return success\n",
    "# time, gradient_lst = check_validity()\n",
    "# gradient_lst, time = check_validity()\n",
    "success = check_validity()"
   ]
  },
  {
   "cell_type": "code",
   "execution_count": null,
   "metadata": {},
   "outputs": [],
   "source": [
    "success/2000"
   ]
  },
  {
   "cell_type": "code",
   "execution_count": null,
   "metadata": {},
   "outputs": [],
   "source": [
    "sns.scatterplot(data=df[df['product'] == 'STARFRUIT'].iloc[100:150], x='timestamp', y='mid_price', hue='product', s = 10, palette=['#fa8825'])\n",
    "for i in range(100, 150, 1):\n",
    "    x_new = []\n",
    "    minus = -1400\n",
    "    for _ in range(15):\n",
    "        x_new.append(time[i] + minus)\n",
    "        minus += 100\n",
    "    # x_1 = time[i]-100\n",
    "    # x_2 = time[i]-200\n",
    "    # x_3 = time[i]-300\n",
    "    # x_new = [x_3, x_2, x_1, time[i]]\n",
    "    c, m = lin_reg(np.array(x_new), np.array(gradient_lst[i]))\n",
    "    y = m * np.array(x_new) + c\n",
    "    print(f\"new: {x_new}, grad: {gradient_lst[i]}\")\n",
    "    print(y)\n",
    "    plt.plot(x_new, y)\n",
    "plt.title('STARFRUIT')\n",
    "plt.xlabel('Time')\n",
    "plt.ylabel('Mid Price')\n",
    "plt.show()"
   ]
  },
  {
   "cell_type": "code",
   "execution_count": null,
   "metadata": {},
   "outputs": [],
   "source": [
    "print(sum([df.loc[3995, 'bid_volume_1'], df.loc[3995, 'bid_volume_2'], df.loc[3995, 'bid_volume_3'], df.loc[3995, 'ask_volume_1'], df.loc[3995, 'ask_volume_2'], df.loc[3995, 'ask_volume_3']]))"
   ]
  },
  {
   "cell_type": "code",
   "execution_count": null,
   "metadata": {},
   "outputs": [],
   "source": [
    "df[df['product'] == 'STARFRUIT'].to_csv('starfruit_my_trades.csv', index = False)"
   ]
  },
  {
   "cell_type": "code",
   "execution_count": null,
   "metadata": {},
   "outputs": [],
   "source": [
    "df.replace(0, np.nan, inplace=True)"
   ]
  },
  {
   "cell_type": "code",
   "execution_count": null,
   "metadata": {},
   "outputs": [],
   "source": [
    "lowest_ask = df[[\"ask_price_1\", \"ask_price_2\", \"ask_price_3\"]].min(axis=1)\n",
    "\n",
    "highest_bid = df[[\"bid_price_1\", \"bid_price_2\", \"bid_price_3\"]].min(axis=1)\n",
    "\n",
    "spread = lowest_ask - highest_bid\n",
    "\n",
    "df['spread'] = spread"
   ]
  },
  {
   "cell_type": "code",
   "execution_count": null,
   "metadata": {},
   "outputs": [],
   "source": [
    "sns.scatterplot(data=df, x='timestamp', y='spread', hue='product', s = 2)\n",
    "plt.title('Spread')\n",
    "plt.xlabel('Time')\n",
    "plt.ylabel('Price')"
   ]
  },
  {
   "cell_type": "markdown",
   "metadata": {},
   "source": [
    "## Finding EMA"
   ]
  },
  {
   "cell_type": "code",
   "execution_count": null,
   "metadata": {},
   "outputs": [],
   "source": [
    "\n",
    "\n",
    "def calculate_ema(col_name: str, time = 3):\n",
    "    for product in df['product'].unique():\n",
    "        df[col_name + f\"_{product}\"] = df[df['product'] == str(product)]['mid_price'].ewm(span = time, adjust = False).mean()\n",
    "    # return df[df['product'] == product]\n"
   ]
  },
  {
   "cell_type": "code",
   "execution_count": null,
   "metadata": {},
   "outputs": [],
   "source": [
    "# df_star = calculate_ema(product= \"STARFRUIT\", col_name=\"ema3\")\n",
    "calculate_ema(col_name=\"ema3\", time=3)\n",
    "calculate_ema(col_name=\"ema7\", time=7)\n",
    "calculate_ema(col_name=\"ema20\", time=20)\n",
    "calculate_ema(col_name=\"ema100\", time=100)"
   ]
  },
  {
   "cell_type": "code",
   "execution_count": null,
   "metadata": {},
   "outputs": [],
   "source": [
    "sns.lineplot(data=df[df['product'] == 'AMETHYSTS'].iloc[:2000], x='timestamp', y='ema3_AMETHYSTS', label='ema3')\n",
    "sns.lineplot(data=df[df['product'] == 'AMETHYSTS'].iloc[:2000], x='timestamp', y='ema100_AMETHYSTS', label='ema100')\n",
    "sns.scatterplot(data=df[df['product'] == 'AMETHYSTS'].iloc[:2000], x='timestamp', y='mid_price', hue='product', s = 2, palette=['#000000'])\n",
    "plt.title('AMETHYSTS')\n",
    "plt.xlabel('Time')\n",
    "plt.legend()\n",
    "plt.ylabel('PRICE')"
   ]
  },
  {
   "cell_type": "code",
   "execution_count": null,
   "metadata": {},
   "outputs": [],
   "source": [
    "sns.lineplot(data=df[df['product'] == 'STARFRUIT'].iloc[:2000], x='timestamp', y='ema20_STARFRUIT', label='ema20', linewidth=1)\n",
    "sns.lineplot(data=df[df['product'] == 'STARFRUIT'].iloc[:2000], x='timestamp', y='ema100_STARFRUIT', label='ema100', linewidth=1)\n",
    "sns.scatterplot(data=df[df['product'] == 'STARFRUIT'].iloc[:2000], x='timestamp', y='mid_price', hue='product', s = 1, palette=['#000000'])\n",
    "plt.title('STARFRUIT')\n",
    "plt.xlabel('Time')\n",
    "plt.legend()\n",
    "plt.ylabel('PRICE')"
   ]
  },
  {
   "cell_type": "code",
   "execution_count": null,
   "metadata": {},
   "outputs": [],
   "source": [
    "trade_df = convert_to_pandas(\"scripts/testMM.log\")"
   ]
  },
  {
   "cell_type": "code",
   "execution_count": null,
   "metadata": {},
   "outputs": [],
   "source": [
    "trade_df[\"timestamp\"] = trade_df[\"timestamp\"] / 100\n",
    "trade_df.set_index('timestamp', inplace=True)"
   ]
  },
  {
   "cell_type": "code",
   "execution_count": null,
   "metadata": {},
   "outputs": [],
   "source": [
    "\n",
    "sns.barplot(data=trade_df[trade_df['product'] == 'STARFRUIT'].loc[1300: 1380], x='timestamp', y='position', label = \"position\")\n",
    "ax2 = plt.twinx()\n",
    "# sns.barplot(data=trade_df[trade_df['product'] == 'AMETHYSTS'].iloc[100:], x='timestamp', y='price', color=\"r\", ax=ax2, label = \"price\")\n",
    "\n",
    "plt.legend(loc='upper left')"
   ]
  },
  {
   "cell_type": "code",
   "execution_count": null,
   "metadata": {},
   "outputs": [],
   "source": [
    "len(trade_df) # the amount of trades that have gone thru"
   ]
  },
  {
   "cell_type": "code",
   "execution_count": null,
   "metadata": {},
   "outputs": [],
   "source": [
    "sns.scatterplot(data=df[df['product'] == 'STARFRUIT'].iloc[1330: 1350], x='timestamp', y='profit_and_loss', hue='product', s = 5)"
   ]
  },
  {
   "cell_type": "code",
   "execution_count": null,
   "metadata": {},
   "outputs": [],
   "source": [
    "df[df['product'] == 'STARFRUIT'][\"mid_price\"].iloc[1337]"
   ]
  },
  {
   "cell_type": "code",
   "execution_count": null,
   "metadata": {},
   "outputs": [],
   "source": [
    "trade_df[df['product'] == 'STARFRUIT'][\"price\"].loc[1330 : 1400]"
   ]
  },
  {
   "cell_type": "code",
   "execution_count": null,
   "metadata": {},
   "outputs": [],
   "source": [
    "\n",
    "sns.barplot(data=trade_df[trade_df['product'] == 'AMETHYSTS'].loc[830: 1050], x='timestamp', y='position', label = \"position\")\n",
    "ax2 = plt.twinx()\n",
    "# sns.barplot(data=trade_df[trade_df['product'] == 'AMETHYSTS'].iloc[100:], x='timestamp', y='price', color=\"r\", ax=ax2, label = \"price\")\n",
    "\n",
    "plt.legend(loc='upper left')"
   ]
  },
  {
   "cell_type": "code",
   "execution_count": null,
   "metadata": {},
   "outputs": [],
   "source": [
    "sns.scatterplot(data=df[df['product'] == 'A'].iloc[750: 850], x='timestamp', y='profit_and_loss', hue='product', s = 5)"
   ]
  },
  {
   "cell_type": "code",
   "execution_count": null,
   "metadata": {},
   "outputs": [],
   "source": []
  }
 ],
 "metadata": {
  "kernelspec": {
   "display_name": "Python 3 (ipykernel)",
   "language": "python",
   "name": "python3"
  },
  "language_info": {
   "codemirror_mode": {
    "name": "ipython",
    "version": 3
   },
   "file_extension": ".py",
   "mimetype": "text/x-python",
   "name": "python",
   "nbconvert_exporter": "python",
   "pygments_lexer": "ipython3",
   "version": "3.12.2"
  }
 },
 "nbformat": 4,
 "nbformat_minor": 4
}
