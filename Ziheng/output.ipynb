{
 "cells": [
  {
   "cell_type": "code",
   "execution_count": null,
   "metadata": {},
   "outputs": [],
   "source": [
    "import pandas as pd\n",
    "import seaborn as sns\n",
    "import matplotlib.pyplot as plt\n",
    "import numpy as np\n",
    "from scripts.find_trades import *"
   ]
  },
  {
   "cell_type": "code",
   "execution_count": null,
   "metadata": {},
   "outputs": [],
   "source": [
    "\n",
    "# df = pd.read_csv('../(Data) Last Year/training/prices_round_1_day_0.csv', delimiter=';')\n",
    "df = pd.read_csv('verify2.csv', delimiter=';')\n",
    "df.fillna(0, inplace=True)"
   ]
  },
  {
   "cell_type": "code",
   "execution_count": null,
   "metadata": {},
   "outputs": [],
   "source": [
    "df"
   ]
  },
  {
   "cell_type": "code",
   "execution_count": null,
   "metadata": {},
   "outputs": [],
   "source": [
    "df.columns.to_list()"
   ]
  },
  {
   "cell_type": "code",
   "execution_count": null,
   "metadata": {},
   "outputs": [],
   "source": [
    "sns.scatterplot(data=df, x='timestamp', y='profit_and_loss', hue='product', s = 1)\n",
    "plt.title('Time vs Profits')\n",
    "plt.xlabel('Time')\n",
    "plt.ylabel('Profits')\n"
   ]
  },
  {
   "cell_type": "code",
   "execution_count": null,
   "metadata": {},
   "outputs": [],
   "source": [
    "sns.scatterplot(data=df[df['product'] == 'AMETHYSTS'].iloc[650:800], x='timestamp', y='profit_and_loss', hue='product', s = 1)\n",
    "plt.title('Time vs Profits')\n",
    "plt.xlabel('Time')\n",
    "plt.ylabel('Profits')\n"
   ]
  },
  {
   "cell_type": "code",
   "execution_count": null,
   "metadata": {},
   "outputs": [],
   "source": [
    "sns.scatterplot(data=df[df['product'] == 'AMETHYSTS'].iloc[550:800], x='timestamp', y='mid_price', hue='product', s = 6)\n",
    "plt.title('AMETHYSTS')\n",
    "plt.xlabel('Time')\n",
    "plt.ylabel('Mid Price')"
   ]
  },
  {
   "cell_type": "code",
   "execution_count": null,
   "metadata": {},
   "outputs": [],
   "source": [
    "sns.scatterplot(data=df[df['product'] == 'STARFRUIT'].iloc[200:250], x='timestamp', y='mid_price', hue='product', s = 6)\n",
    "plt.title('STARFRUIT')\n",
    "plt.xlabel('Time')\n",
    "plt.ylabel('Mid Price')"
   ]
  },
  {
   "cell_type": "code",
   "execution_count": null,
   "metadata": {},
   "outputs": [],
   "source": [
    "sns.scatterplot(data=df[df['product'] == 'STARFRUIT'].iloc[100:250], x='timestamp', y='mid_price', hue='product', s = 10, palette=['#fa8825'])\n",
    "for i in range(100, 250, 1):\n",
    "    x_new = []\n",
    "    minus = -1400\n",
    "    for _ in range(15):\n",
    "        x_new.append(time[i] + minus)\n",
    "    # x_1 = time[i]-100\n",
    "    # x_2 = time[i]-200\n",
    "    # x_3 = time[i]-300\n",
    "    # x_new = [x_3, x_2, x_1, time[i]]\n",
    "    c, m = lin_reg(np.array(x_new), np.array(gradient_lst[i]))\n",
    "    y = m * np.array(x_new) + c\n",
    "    print(y)\n",
    "    plt.plot(x_new, y)\n",
    "plt.title('STARFRUIT')\n",
    "plt.xlabel('Time')\n",
    "plt.ylabel('Mid Price')\n",
    "plt.show()\n"
   ]
  },
  {
   "cell_type": "code",
   "execution_count": null,
   "metadata": {},
   "outputs": [],
   "source": [
    "len(time)"
   ]
  },
  {
   "cell_type": "code",
   "execution_count": null,
   "metadata": {},
   "outputs": [],
   "source": [
    "gradient_lst[0]"
   ]
  },
  {
   "cell_type": "code",
   "execution_count": null,
   "metadata": {},
   "outputs": [],
   "source": [
    "def find_average(row):\n",
    "    return sum([row['bid_price_1'] * row['bid_volume_1'], row['bid_price_2'] * row['bid_volume_2'],\n",
    "row['bid_price_3'] * row['bid_volume_3'], row['ask_price_3'] * row['ask_volume_3'], row['ask_price_2'] * row['ask_volume_2'],\n",
    " row['ask_price_1'] * row['ask_volume_1'] ]) / sum([row['bid_volume_1'], row['bid_volume_2'], row['bid_volume_3'],\n",
    "                                                  row['ask_volume_1'], row['ask_volume_2'], row['ask_volume_3']])\n",
    "\n",
    "\n",
    "df['avg_price'] = df.apply(find_average, axis=1)"
   ]
  },
  {
   "cell_type": "code",
   "execution_count": null,
   "metadata": {},
   "outputs": [],
   "source": [
    "def lin_reg(x, y):\n",
    "        # number of observations/points\n",
    "        n = np.size(x)\n",
    "        \n",
    "        # mean of x and y vector\n",
    "        m_x = np.mean(x)\n",
    "        m_y = np.mean(y)\n",
    "        \n",
    "        # calculating cross-deviation and deviation about x\n",
    "        SS_xy = np.sum(y*x) - n*m_y*m_x\n",
    "        SS_xx = np.sum(x*x) - n*m_x*m_x\n",
    "        \n",
    "        # calculating regression coefficients\n",
    "        b_1 = SS_xy / SS_xx\n",
    "        b_0 = m_y - b_1*m_x\n",
    "        \n",
    "        return (float(b_0), float(b_1))"
   ]
  },
  {
   "cell_type": "code",
   "execution_count": null,
   "metadata": {},
   "outputs": [],
   "source": [
    "def check_validity():\n",
    "    df_star = df[df[\"product\"] == \"STARFRUIT\"]\n",
    "    success = 0\n",
    "    lst = np.array([])\n",
    "    x = np.array([i for i in range(15)])\n",
    "    time = []\n",
    "    gradient_lst = []\n",
    "    for index, row in df_star.iterrows():\n",
    "        if index == 3999:\n",
    "            break\n",
    "        curr_avg = row[\"avg_price\"]\n",
    "        curr_mid = row[\"mid_price\"]\n",
    "        next_mid = df.iloc[index+1][\"mid_price\"]\n",
    "\n",
    "        if len(lst) < 15:\n",
    "            lst = np.append(lst, curr_avg)\n",
    "            continue\n",
    "        else:\n",
    "            lst = lst[1:]\n",
    "            lst = np.append(lst, curr_avg)\n",
    "        \n",
    "        c, gradient = lin_reg(x, lst)\n",
    "        time.append(row[\"timestamp\"])\n",
    "        gradient_lst.append(lst.tolist())\n",
    "        # df[\"lin_reg_avg_price\"] = df\n",
    "        # print(c, gradient)\n",
    "        # predicting a down trend\n",
    "        # if curr_avg - curr_mid < 0:\n",
    "        if gradient < 0:\n",
    "            if next_mid < curr_mid:\n",
    "                success += 1\n",
    "        \n",
    "        # if curr_avg - curr_mid > 0:\n",
    "        if gradient > 0:\n",
    "            if next_mid > curr_mid:\n",
    "                success += 1\n",
    "\n",
    "    return success\n",
    "\n",
    "# time, gradient_lst = check_validity()\n",
    "success = check_validity()"
   ]
  },
  {
   "cell_type": "code",
   "execution_count": null,
   "metadata": {},
   "outputs": [],
   "source": [
    "879/2000"
   ]
  },
  {
   "cell_type": "code",
   "execution_count": null,
   "metadata": {},
   "outputs": [],
   "source": [
    "print(sum([df.loc[3995, 'bid_volume_1'], df.loc[3995, 'bid_volume_2'], df.loc[3995, 'bid_volume_3'], df.loc[3995, 'ask_volume_1'], df.loc[3995, 'ask_volume_2'], df.loc[3995, 'ask_volume_3']]))"
   ]
  },
  {
   "cell_type": "code",
   "execution_count": null,
   "metadata": {},
   "outputs": [],
   "source": [
    "df[df['product'] == 'STARFRUIT'].to_csv('starfruit_my_trades.csv', index = False)"
   ]
  },
  {
   "cell_type": "code",
   "execution_count": null,
   "metadata": {},
   "outputs": [],
   "source": [
    "df.replace(0, np.nan, inplace=True)"
   ]
  },
  {
   "cell_type": "code",
   "execution_count": null,
   "metadata": {},
   "outputs": [],
   "source": [
    "lowest_ask = df[[\"ask_price_1\", \"ask_price_2\", \"ask_price_3\"]].min(axis=1)\n",
    "\n",
    "highest_bid = df[[\"bid_price_1\", \"bid_price_2\", \"bid_price_3\"]].min(axis=1)\n",
    "\n",
    "spread = lowest_ask - highest_bid\n",
    "\n",
    "df['spread'] = spread"
   ]
  },
  {
   "cell_type": "code",
   "execution_count": null,
   "metadata": {},
   "outputs": [],
   "source": [
    "sns.scatterplot(data=df, x='timestamp', y='spread', hue='product', s = 2)\n",
    "plt.title('Spread')\n",
    "plt.xlabel('Time')\n",
    "plt.ylabel('Price')"
   ]
  },
  {
   "cell_type": "markdown",
   "metadata": {},
   "source": [
    "## Finding EMA"
   ]
  },
  {
   "cell_type": "code",
   "execution_count": null,
   "metadata": {},
   "outputs": [],
   "source": [
    "\n",
    "\n",
    "def calculate_ema(col_name: str, time = 3):\n",
    "    for product in df['product'].unique():\n",
    "        df[col_name + f\"_{product}\"] = df[df['product'] == str(product)]['mid_price'].ewm(span = time, adjust = False).mean()\n",
    "    # return df[df['product'] == product]\n"
   ]
  },
  {
   "cell_type": "code",
   "execution_count": null,
   "metadata": {},
   "outputs": [],
   "source": [
    "# df_star = calculate_ema(product= \"STARFRUIT\", col_name=\"ema3\")\n",
    "calculate_ema(col_name=\"ema3\", time=3)\n",
    "calculate_ema(col_name=\"ema7\", time=7)\n",
    "calculate_ema(col_name=\"ema20\", time=20)\n",
    "calculate_ema(col_name=\"ema100\", time=100)"
   ]
  },
  {
   "cell_type": "code",
   "execution_count": null,
   "metadata": {},
   "outputs": [],
   "source": [
    "sns.lineplot(data=df[df['product'] == 'AMETHYSTS'].iloc[:2000], x='timestamp', y='ema3_AMETHYSTS', label='ema3')\n",
    "sns.lineplot(data=df[df['product'] == 'AMETHYSTS'].iloc[:2000], x='timestamp', y='ema100_AMETHYSTS', label='ema100')\n",
    "sns.scatterplot(data=df[df['product'] == 'AMETHYSTS'].iloc[:2000], x='timestamp', y='mid_price', hue='product', s = 2, palette=['#000000'])\n",
    "plt.title('AMETHYSTS')\n",
    "plt.xlabel('Time')\n",
    "plt.legend()\n",
    "plt.ylabel('PRICE')"
   ]
  },
  {
   "cell_type": "code",
   "execution_count": null,
   "metadata": {},
   "outputs": [],
   "source": [
    "sns.lineplot(data=df[df['product'] == 'STARFRUIT'].iloc[:2000], x='timestamp', y='ema20_STARFRUIT', label='ema20', linewidth=1)\n",
    "sns.lineplot(data=df[df['product'] == 'STARFRUIT'].iloc[:2000], x='timestamp', y='ema100_STARFRUIT', label='ema100', linewidth=1)\n",
    "sns.scatterplot(data=df[df['product'] == 'STARFRUIT'].iloc[:2000], x='timestamp', y='mid_price', hue='product', s = 1, palette=['#000000'])\n",
    "plt.title('STARFRUIT')\n",
    "plt.xlabel('Time')\n",
    "plt.legend()\n",
    "plt.ylabel('PRICE')"
   ]
  },
  {
   "cell_type": "code",
   "execution_count": null,
   "metadata": {},
   "outputs": [],
   "source": [
    "trade_df = convert_to_pandas(\"scripts/testMM.log\")"
   ]
  },
  {
   "cell_type": "code",
   "execution_count": null,
   "metadata": {},
   "outputs": [],
   "source": [
    "trade_df[\"timestamp\"] = trade_df[\"timestamp\"] / 100\n",
    "trade_df.set_index('timestamp', inplace=True)"
   ]
  },
  {
   "cell_type": "code",
   "execution_count": null,
   "metadata": {},
   "outputs": [],
   "source": [
    "\n",
    "sns.barplot(data=trade_df[trade_df['product'] == 'STARFRUIT'].loc[1300: 1380], x='timestamp', y='position', label = \"position\")\n",
    "ax2 = plt.twinx()\n",
    "# sns.barplot(data=trade_df[trade_df['product'] == 'AMETHYSTS'].iloc[100:], x='timestamp', y='price', color=\"r\", ax=ax2, label = \"price\")\n",
    "\n",
    "plt.legend(loc='upper left')"
   ]
  },
  {
   "cell_type": "code",
   "execution_count": null,
   "metadata": {},
   "outputs": [],
   "source": [
    "len(trade_df) # the amount of trades that have gone thru"
   ]
  },
  {
   "cell_type": "code",
   "execution_count": null,
   "metadata": {},
   "outputs": [],
   "source": [
    "sns.scatterplot(data=df[df['product'] == 'STARFRUIT'].iloc[1330: 1350], x='timestamp', y='profit_and_loss', hue='product', s = 5)"
   ]
  },
  {
   "cell_type": "code",
   "execution_count": null,
   "metadata": {},
   "outputs": [],
   "source": [
    "df[df['product'] == 'STARFRUIT'][\"mid_price\"].iloc[1337]"
   ]
  },
  {
   "cell_type": "code",
   "execution_count": null,
   "metadata": {},
   "outputs": [],
   "source": [
    "trade_df[df['product'] == 'STARFRUIT'][\"price\"].loc[1330 : 1400]"
   ]
  },
  {
   "cell_type": "code",
   "execution_count": null,
   "metadata": {},
   "outputs": [],
   "source": [
    "\n",
    "sns.barplot(data=trade_df[trade_df['product'] == 'AMETHYSTS'].loc[830: 1050], x='timestamp', y='position', label = \"position\")\n",
    "ax2 = plt.twinx()\n",
    "# sns.barplot(data=trade_df[trade_df['product'] == 'AMETHYSTS'].iloc[100:], x='timestamp', y='price', color=\"r\", ax=ax2, label = \"price\")\n",
    "\n",
    "plt.legend(loc='upper left')"
   ]
  },
  {
   "cell_type": "code",
   "execution_count": null,
   "metadata": {},
   "outputs": [],
   "source": [
    "sns.scatterplot(data=df[df['product'] == 'A'].iloc[750: 850], x='timestamp', y='profit_and_loss', hue='product', s = 5)"
   ]
  },
  {
   "cell_type": "code",
   "execution_count": null,
   "metadata": {},
   "outputs": [],
   "source": []
  }
 ],
 "metadata": {
  "kernelspec": {
   "display_name": "Python 3 (ipykernel)",
   "language": "python",
   "name": "python3"
  },
  "language_info": {
   "codemirror_mode": {
    "name": "ipython",
    "version": 3
   },
   "file_extension": ".py",
   "mimetype": "text/x-python",
   "name": "python",
   "nbconvert_exporter": "python",
   "pygments_lexer": "ipython3",
   "version": "3.12.2"
  }
 },
 "nbformat": 4,
 "nbformat_minor": 4
}
