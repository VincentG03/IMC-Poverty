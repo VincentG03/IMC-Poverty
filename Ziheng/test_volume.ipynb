{
 "cells": [
  {
   "cell_type": "code",
   "execution_count": 1,
   "metadata": {},
   "outputs": [],
   "source": [
    "import pandas as pd\n",
    "import seaborn as sns\n",
    "import matplotlib.pyplot as plt\n",
    "import numpy as np\n",
    "from scripts.find_trades import *"
   ]
  },
  {
   "cell_type": "code",
   "execution_count": null,
   "metadata": {},
   "outputs": [],
   "source": [
    "\n",
    "# df = pd.read_csv('../(Data) Last Year/training/prices_round_1_day_0.csv', delimiter=';')\n",
    "df = pd.read_csv('new.csv', delimiter=';')\n",
    "df.fillna(0, inplace=True)"
   ]
  },
  {
   "cell_type": "code",
   "execution_count": null,
   "metadata": {},
   "outputs": [],
   "source": []
  },
  {
   "cell_type": "code",
   "execution_count": null,
   "metadata": {},
   "outputs": [],
   "source": [
    "def find_bid_volume(row):\n",
    "    return sum([row['bid_volume_1'], row['bid_volume_2'], row['bid_volume_3']])"
   ]
  },
  {
   "cell_type": "code",
   "execution_count": null,
   "metadata": {},
   "outputs": [],
   "source": [
    "def find_ask_volume(row):\n",
    "    return sum([row['ask_volume_1'], row['ask_volume_2'], row['ask_volume_3']])"
   ]
  },
  {
   "cell_type": "code",
   "execution_count": null,
   "metadata": {},
   "outputs": [],
   "source": [
    "def diff_vol(row):\n",
    "    return find_bid_volume(row) - find_ask_volume(row) + row[\"mid_price\"]"
   ]
  },
  {
   "cell_type": "code",
   "execution_count": null,
   "metadata": {},
   "outputs": [],
   "source": [
    "df['order_bal'] = df.apply(diff_vol, axis=1)"
   ]
  },
  {
   "cell_type": "code",
   "execution_count": null,
   "metadata": {},
   "outputs": [],
   "source": [
    "# tkaing the weighted last 10 points and calculating orderbook inbalnace avg\n",
    "\n",
    "def avg_inbalance():\n",
    "    df[\"starfruit_ewm_orderbal\"] = df[df['product'] == \"STARFRUIT\"]['order_bal'].ewm(span = 5, adjust = False).mean()\n",
    "\n",
    "    success = 0\n",
    "    ddf = df[df['product'] == \"STARFRUIT\"]\n",
    "    print(ddf.columns.to_list())\n",
    "    for index, row in ddf.iterrows():\n",
    "        if index == 2000:\n",
    "            break\n",
    "        curr_pred = row[\"starfruit_ewm_orderbal\"]\n",
    "        next_pred = ddf.iloc[index + 1][\"mid_price\"]\n",
    "\n",
    "        # we expect the next mid price to go up\n",
    "        exp = curr_pred - row[\"mid_price\"]\n",
    "        res = next_pred - row[\"mid_price\"]\n",
    "\n",
    "        if exp > 0 and res > 0:\n",
    "            success += 1\n",
    "\n",
    "        if exp < 0 and res < 0:\n",
    "            success += 1\n",
    "\n",
    "    return success\n",
    "print(avg_inbalance())\n",
    "\n",
    "# df\n"
   ]
  },
  {
   "cell_type": "code",
   "execution_count": null,
   "metadata": {},
   "outputs": [],
   "source": [
    "df"
   ]
  },
  {
   "cell_type": "code",
   "execution_count": null,
   "metadata": {},
   "outputs": [],
   "source": [
    "sns.scatterplot(data=df[df['product'] == 'STARFRUIT'].iloc[400:450], x='timestamp', y='mid_price', hue='product', s = 4, color=\"red\")\n",
    "\n",
    "# sns.lineplot(data=df[df['product'] == 'STARFRUIT'].iloc[100:150], x='timestamp', y='order_bal', hue='product', linewidth=0.2)\n",
    "\n",
    "plt.xlabel(\"Time\")\n",
    "plt.ylabel(\"Price\")\n",
    "plt.title(\"Time vs Price\")\n",
    "\n",
    "# Show plot\n",
    "plt.legend(title='Gender')\n",
    "plt.show()"
   ]
  },
  {
   "cell_type": "code",
   "execution_count": null,
   "metadata": {},
   "outputs": [],
   "source": []
  }
 ],
 "metadata": {
  "kernelspec": {
   "display_name": "Python 3",
   "language": "python",
   "name": "python3"
  },
  "language_info": {
   "codemirror_mode": {
    "name": "ipython",
    "version": 3
   },
   "file_extension": ".py",
   "mimetype": "text/x-python",
   "name": "python",
   "nbconvert_exporter": "python",
   "pygments_lexer": "ipython3",
   "version": "3.12.2"
  }
 },
 "nbformat": 4,
 "nbformat_minor": 2
}
